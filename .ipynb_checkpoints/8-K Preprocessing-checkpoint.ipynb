{
 "cells": [
  {
   "cell_type": "code",
   "execution_count": 16,
   "metadata": {},
   "outputs": [],
   "source": [
    "from bs4 import BeautifulSoup\n",
    "import os\n",
    "import pandas as pd"
   ]
  },
  {
   "cell_type": "code",
   "execution_count": 17,
   "metadata": {},
   "outputs": [],
   "source": [
    "current_path = os.getcwd()\n",
    "fb_folder = \"../SEC_8K/Data/FB\""
   ]
  },
  {
   "cell_type": "code",
   "execution_count": 18,
   "metadata": {},
   "outputs": [],
   "source": [
    "def find_text(file):\n",
    "    HtmlFile = open(file, 'r', encoding='utf-8')\n",
    "    soup = BeautifulSoup(HtmlFile, 'html.parser')\n",
    "#     html = \"\"\n",
    "#     tag = soup.find(\"hr\").next\n",
    "#     while True:\n",
    "#         if tag.name == \"hr\":\n",
    "#             break\n",
    "#         else:\n",
    "#             try:\n",
    "#                 html += tag.text\n",
    "#             except:\n",
    "#                 pass\n",
    "#             tag = tag.next\n",
    "\n",
    "    [s.extract() for s in soup(['style', 'script', '[document]', 'head', 'title'])]\n",
    "    visible_text = soup.getText()\n",
    "            \n",
    "    return visible_text"
   ]
  },
  {
   "cell_type": "code",
   "execution_count": 19,
   "metadata": {},
   "outputs": [],
   "source": [
    "os.chdir(fb_folder)\n",
    "\n",
    "all_text = {}\n",
    "\n",
    "for date in os.listdir():\n",
    "    os.chdir(date)\n",
    "    text = find_text(\"8K.html\")\n",
    "    all_text[date] = [text]\n",
    "    os.chdir(\"..\")\n",
    "\n",
    "os.chdir(current_path)"
   ]
  },
  {
   "cell_type": "code",
   "execution_count": 20,
   "metadata": {},
   "outputs": [],
   "source": [
    "df = pd.DataFrame.from_dict(all_text).T.squeeze()"
   ]
  },
  {
   "cell_type": "code",
   "execution_count": 21,
   "metadata": {},
   "outputs": [],
   "source": [
    "df = df.str.replace(\"\\n\", \"\")\n",
    "df = df.str.replace(\"\\xa0\", \"\")\n",
    "df = df.str.replace(\"\\x93\", \"\")\n",
    "df = df.str.replace(\"\\x94\", \"\")\n",
    "df = df.str.replace(\"\\x92\", \"\")\n",
    "df = df.str.replace(\"/s/\", \"\")"
   ]
  },
  {
   "cell_type": "code",
   "execution_count": 28,
   "metadata": {},
   "outputs": [
    {
     "data": {
      "text/plain": [
       "2012-06-25    8-K1d371533d8k.htmFORM 8-K UNITED STATES SECUR...\n",
       "2012-07-26    8-K1d385430d8k.htmFORM 8-K UNITED STATES SECUR...\n",
       "2012-09-04    8-K1d405186d8k.htmFORM 8-K UNITED STATES SECUR...\n",
       "2012-10-15    8-K1d424570d8k.htmFORM 8-K UNITED STATES SECUR...\n",
       "2012-10-23    8-K1d427739d8k.htmFORM 8-K UNITED STATES SECUR...\n",
       "Name: 0, dtype: object"
      ]
     },
     "execution_count": 28,
     "metadata": {},
     "output_type": "execute_result"
    }
   ],
   "source": [
    "df.head()"
   ]
  },
  {
   "cell_type": "code",
   "execution_count": 29,
   "metadata": {},
   "outputs": [],
   "source": [
    "from tqdm import tqdm\n",
    "tqdm.pandas(desc=\"progress-bar\")\n",
    "from gensim.models import Doc2Vec\n",
    "from sklearn import utils\n",
    "import gensim\n",
    "from gensim.models.doc2vec import TaggedDocument\n",
    "import re\n",
    "from gensim.models import doc2vec"
   ]
  },
  {
   "cell_type": "code",
   "execution_count": 40,
   "metadata": {},
   "outputs": [],
   "source": [
    "def process(fname):\n",
    "    for i, line in enumerate(fname):\n",
    "        yield gensim.models.doc2vec.TaggedDocument(gensim.utils.simple_preprocess(line), [i])\n"
   ]
  },
  {
   "cell_type": "code",
   "execution_count": 45,
   "metadata": {},
   "outputs": [],
   "source": [
    "corpus = list(process(df))"
   ]
  },
  {
   "cell_type": "code",
   "execution_count": 56,
   "metadata": {},
   "outputs": [
    {
     "data": {
      "text/plain": [
       "TaggedDocument(words=['htmform', 'united', 'states', 'securities', 'and', 'exchange', 'commission', 'washington', 'form', 'current', 'report', 'pursuant', 'to', 'section', 'or', 'of', 'the', 'securities', 'exchange', 'act', 'of', 'date', 'of', 'report', 'date', 'of', 'earliest', 'event', 'reported', 'june', 'facebook', 'inc', 'exact', 'name', 'of', 'registrant', 'as', 'specified', 'in', 'charter', 'delaware', 'state', 'or', 'other', 'jurisdiction', 'commission', 'irs', 'employerof', 'incorporation', 'file', 'number', 'identification', 'no', 'willow', 'roadmenlo', 'park', 'california', 'address', 'of', 'principal', 'executive', 'offices', 'zip', 'code', 'registrants', 'telephone', 'number', 'including', 'area', 'code', 'former', 'name', 'or', 'former', 'address', 'if', 'changed', 'since', 'last', 'report', 'check', 'the', 'appropriate', 'box', 'below', 'if', 'the', 'form', 'filing', 'is', 'intended', 'to', 'simultaneously', 'satisfy', 'the', 'filing', 'obligation', 'of', 'the', 'registrant', 'underany', 'of', 'the', 'following', 'provisions', 'written', 'communications', 'pursuant', 'to', 'rule', 'under', 'the', 'securities', 'act', 'cfr', 'soliciting', 'material', 'pursuant', 'to', 'rule', 'under', 'the', 'exchange', 'act', 'cfr', 'pre', 'commencement', 'communications', 'pursuant', 'to', 'rule', 'under', 'the', 'exchange', 'act', 'cfr', 'pre', 'commencement', 'communications', 'pursuant', 'to', 'rule', 'under', 'the', 'exchange', 'act', 'cfr', 'item', 'departure', 'of', 'directors', 'or', 'certain', 'officers', 'election', 'of', 'directors', 'appointment', 'of', 'certainofficers', 'compensatory', 'arrangements', 'of', 'certain', 'officers', 'on', 'june', 'the', 'board', 'of', 'directors', 'the', 'board', 'of', 'facebook', 'inc', 'the', 'company', 'appointed', 'sheryl', 'sandberg', 'the', 'companys', 'chief', 'operating', 'officer', 'as', 'member', 'of', 'the', 'board', 'there', 'is', 'no', 'arrangement', 'or', 'understanding', 'with', 'any', 'person', 'pursuant', 'to', 'which', 'ms', 'sandberg', 'was', 'appointed', 'as', 'director', 'ms', 'sandberg', 'will', 'not', 'receive', 'compensation', 'for', 'her', 'service', 'as', 'director', 'in', 'satisfaction', 'of', 'the', 'disclosure', 'required', 'by', 'item', 'of', 'regulation', 'the', 'company', 'hereby', 'incorporates', 'byreference', 'certain', 'transactions', 'described', 'in', 'the', 'sections', 'entitled', 'equity', 'awards', 'employment', 'agreements', 'and', 'offer', 'letters', 'indemnification', 'agreements', 'and', 'commercial', 'agreements', 'under', 'the', 'heading', 'related', 'in', 'the', 'companys', 'registration', 'statement', 'on', 'form', 'file', 'no', 'as', 'originally', 'filed', 'with', 'the', 'securities', 'and', 'exchange', 'commission', 'on', 'february', 'as', 'subsequently', 'amended', 'signatures', 'pursuant', 'to', 'the', 'requirements', 'of', 'the', 'securities', 'exchange', 'act', 'of', 'the', 'registrant', 'has', 'duly', 'caused', 'this', 'report', 'to', 'be', 'signed', 'on', 'its', 'behalf', 'by', 'the', 'undersigned', 'hereunto', 'duly', 'authorized', 'facebook', 'inc', 'date', 'june', 'by', 'theodore', 'ullyotname', 'theodore', 'ullyottitle', 'vice', 'president', 'general', 'counsel', 'and', 'secretary'], tags=[0])"
      ]
     },
     "execution_count": 56,
     "metadata": {},
     "output_type": "execute_result"
    }
   ],
   "source": [
    "corpus[0]"
   ]
  },
  {
   "cell_type": "code",
   "execution_count": 57,
   "metadata": {},
   "outputs": [],
   "source": [
    "model = gensim.models.doc2vec.Doc2Vec(vector_size=50, min_count=2, epochs=40)"
   ]
  },
  {
   "cell_type": "code",
   "execution_count": 58,
   "metadata": {},
   "outputs": [],
   "source": [
    "model.build_vocab(corpus)"
   ]
  },
  {
   "cell_type": "code",
   "execution_count": 59,
   "metadata": {},
   "outputs": [],
   "source": [
    "model.train(corpus, total_examples=model.corpus_count, epochs=model.epochs)"
   ]
  },
  {
   "cell_type": "code",
   "execution_count": 78,
   "metadata": {},
   "outputs": [],
   "source": [
    "for i in range(len(df)):\n",
    "    df[i] = model.infer_vector(corpus[i].words)"
   ]
  },
  {
   "cell_type": "code",
   "execution_count": 80,
   "metadata": {},
   "outputs": [
    {
     "data": {
      "text/plain": [
       "2012-06-25    [0.40349245, -1.1994313, 0.13297047, 0.3166482...\n",
       "2012-07-26    [0.3179282, -0.6705323, -0.41433606, 0.6988617...\n",
       "2012-09-04    [2.056731, -0.3734913, 1.7694564, 0.39918527, ...\n",
       "2012-10-15    [2.0227444, -2.1397638, 0.373905, 0.35142675, ...\n",
       "2012-10-23    [0.8838345, -0.71241564, -0.22185303, 0.418000...\n",
       "2012-10-29    [0.78238785, -1.3628035, -0.08994775, 0.151832...\n",
       "2012-11-29    [0.5910992, -1.8778521, -0.14869998, 0.2326103...\n",
       "2013-01-30    [0.7029326, -0.8309122, -0.4415216, 0.3366325,...\n",
       "2013-03-06    [0.92133987, -1.206244, -0.39933792, 1.2488497...\n",
       "2013-04-03    [0.80154896, -1.1662692, -0.29937288, 0.231282...\n",
       "2013-04-26    [0.5351618, -1.1124167, -0.043819346, 0.444213...\n",
       "2013-05-01    [0.772674, -1.1505969, -0.45659646, 0.59379756...\n",
       "2013-06-13    [-0.4627143, -0.9198941, -0.1874736, 0.5362691...\n",
       "2013-07-24    [0.60996443, -0.71331036, -0.41182578, 0.56936...\n",
       "2013-08-15    [1.4259973, -1.5411619, 0.22774364, 0.07839040...\n",
       "2013-10-16    [0.38144523, -0.54302096, 0.13647237, 0.472627...\n",
       "2013-10-30    [0.7643852, -0.85344815, -0.48485565, 0.480061...\n",
       "2013-12-23    [0.4935189, -1.6336123, -0.5798909, 0.13753152...\n",
       "2014-01-29    [0.5024872, -1.0790856, 0.03473718, 0.29332247...\n",
       "2014-02-19    [1.0685028, -4.2004952, -1.2602845, -0.8857855...\n",
       "2014-03-26    [0.5122279, -2.5329688, -0.307466, -0.5484665,...\n",
       "2014-04-23    [0.8574866, -0.9871098, -0.13979389, 0.0848338...\n",
       "2014-05-23    [-0.0034375777, -1.0309354, -0.4432239, 0.8934...\n",
       "2014-07-23    [0.49233878, -1.0682299, -0.63354945, 0.484240...\n",
       "2014-10-06    [1.6586003, -2.0010433, -0.77112675, -0.808854...\n",
       "2014-10-28    [1.8100116, -0.47331354, -0.65997416, 0.234694...\n",
       "2014-10-29    [0.9979044, -0.93272686, -0.18795983, 0.508299...\n",
       "2015-01-28    [0.9723521, -0.943959, -0.26732478, 0.6182249,...\n",
       "2015-04-22    [0.49559546, -1.5798635, -0.49001294, 0.582436...\n",
       "2015-06-15    [0.2629488, -1.965771, -0.33904305, 0.9599384,...\n",
       "2015-07-29    [0.7833984, -1.2269297, -0.16518408, 0.1143626...\n",
       "2015-11-04    [0.78154063, -1.3737024, 0.19827752, 0.313121,...\n",
       "2015-12-01    [0.34461993, -0.8953426, -0.17967291, -0.62818...\n",
       "2016-01-27    [0.26563883, -1.2494351, -0.3548461, 0.3893115...\n",
       "2016-04-27    [0.23796964, -2.328033, -1.4147251, 1.9302869,...\n",
       "2016-05-20    [0.75396544, -1.1106304, -0.31038958, 0.315795...\n",
       "2016-06-21    [-0.13434823, -1.3229712, -0.5912366, 1.896042...\n",
       "2016-07-27    [0.6817478, -0.8511562, -0.30604976, 0.5592493...\n",
       "2016-11-02    [0.7272194, -1.2205209, -0.17773803, 0.4318646...\n",
       "2016-11-18    [0.9715596, -1.2582545, -0.20333014, 0.2567294...\n",
       "2017-02-01    [0.58059335, -1.1004636, -0.32226917, 0.486080...\n",
       "2017-03-07    [1.2364975, -0.82866466, 1.1330322, 0.3845332,...\n",
       "2017-05-03    [0.55827725, -1.2915728, -0.27801743, 0.361835...\n",
       "2017-06-06    [0.5915454, -1.120936, -0.18198091, 0.87531936...\n",
       "2017-07-26    [0.68083894, -0.7063728, -0.93866336, 0.531476...\n",
       "2017-09-22    [0.5334333, -0.5074677, -0.75018597, 0.7400468...\n",
       "2017-11-01    [0.64690804, -1.0793399, -0.27872372, 0.433689...\n",
       "2018-01-18    [0.7389216, -1.3045344, 0.031066298, 0.841319,...\n",
       "2018-01-31    [1.013905, -1.2402241, -0.48053458, 0.6424693,...\n",
       "2018-04-25    [0.8034601, -0.739339, -0.23813641, 0.34864774...\n",
       "2018-05-01    [1.0967355, -0.66114944, -0.31841332, 0.399838...\n",
       "2018-05-08    [0.7387257, -1.1605928, -0.20783293, 0.4406610...\n",
       "2018-06-05    [-0.3872296, -1.363764, -0.4794311, 0.4604051,...\n",
       "2018-07-25    [1.073912, -1.4325235, -0.3126794, 0.71461433,...\n",
       "Name: 0, dtype: object"
      ]
     },
     "execution_count": 80,
     "metadata": {},
     "output_type": "execute_result"
    }
   ],
   "source": [
    "df"
   ]
  },
  {
   "cell_type": "code",
   "execution_count": 82,
   "metadata": {},
   "outputs": [
    {
     "name": "stderr",
     "output_type": "stream",
     "text": [
      "C:\\ProgramData\\Anaconda3\\lib\\site-packages\\pandas\\core\\generic.py:1471: PerformanceWarning: \n",
      "your performance may suffer as PyTables will pickle object types that it cannot\n",
      "map directly to c-types [inferred_type->mixed,key->values] [items->None]\n",
      "\n",
      "  return pytables.to_hdf(path_or_buf, key, self, **kwargs)\n"
     ]
    }
   ],
   "source": [
    "df.to_hdf(\"../SEC_8K/Data/8K data.h5\", key='df', mode='w')"
   ]
  }
 ],
 "metadata": {
  "kernelspec": {
   "display_name": "Python 3",
   "language": "python",
   "name": "python3"
  },
  "language_info": {
   "codemirror_mode": {
    "name": "ipython",
    "version": 3
   },
   "file_extension": ".py",
   "mimetype": "text/x-python",
   "name": "python",
   "nbconvert_exporter": "python",
   "pygments_lexer": "ipython3",
   "version": "3.6.4"
  }
 },
 "nbformat": 4,
 "nbformat_minor": 2
}
